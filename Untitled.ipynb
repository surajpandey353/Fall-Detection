{
 "cells": [
  {
   "cell_type": "code",
   "execution_count": 120,
   "metadata": {},
   "outputs": [],
   "source": [
    "import pandas as pd\n",
    "import numpy as np\n",
    "#import sklearn\n",
    "#import glob\n",
    "#import os\n"
   ]
  },
  {
   "cell_type": "code",
   "execution_count": 91,
   "metadata": {},
   "outputs": [],
   "source": [
    "# path = r\"F:\\Docs\\Uni-Siegen\\WiSe2020-21\\Fall Detection\\SisFall_dataset\\SisFall_dataset\"\n",
    "# os.chdir(path)\n",
    "\n",
    "# nf_filenames = [i for i in glob.glob(r\"F:\\Docs\\Uni-Siegen\\WiSe2020-21\\Fall Detection\\SisFall_dataset\\SisFall_dataset\\S*\\D*\")]\n",
    "# f_filenames = [i for i in glob.glob(r\"F:\\Docs\\Uni-Siegen\\WiSe2020-21\\Fall Detection\\SisFall_dataset\\SisFall_dataset\\S*\\F*\")]\n",
    "\n",
    "\n",
    "# nf_combined = pd.concat([pd.read_csv(f,header=None) for f in nf_filenames ])\n",
    "# nf_combined.to_csv( \"nf_combined.csv\", index=False, encoding='utf-8-sig')\n",
    "# f_combined = pd.concat([pd.read_csv(f,header=None) for f in f_filenames ])\n",
    "# f_combined.to_csv( \"f_combined.csv\", index=False, encoding='utf-8-sig')"
   ]
  },
  {
   "cell_type": "code",
   "execution_count": 121,
   "metadata": {},
   "outputs": [],
   "source": [
    "#Step 1 Preprocessing of the Data\n",
    "\n",
    "path1 = r\"F:\\Docs\\Uni-Siegen\\WiSe2020-21\\Fall Detection\\SisFall_dataset\\SisFall_dataset\\nf_combined.csv\"\n",
    "path2 = r\"F:\\Docs\\Uni-Siegen\\WiSe2020-21\\Fall Detection\\SisFall_dataset\\SisFall_dataset\\f_combined.csv\"\n",
    "nf_df = pd.read_csv(path1, header =0)\n",
    "f_df = pd.read_csv(path2,header = 0)"
   ]
  },
  {
   "cell_type": "code",
   "execution_count": 122,
   "metadata": {},
   "outputs": [],
   "source": [
    "#Converting 1st Column to float # Correcting Error in writing of csv file\n",
    "nf_df[\"0\"] = pd.to_numeric(nf_df[\"0\"], errors='coerce')\n",
    "#nf_df['0'] = nf_df['0'].astype(float)"
   ]
  },
  {
   "cell_type": "code",
   "execution_count": 123,
   "metadata": {},
   "outputs": [
    {
     "data": {
      "text/plain": [
       "0    float64\n",
       "1    float64\n",
       "2    float64\n",
       "3    float64\n",
       "4    float64\n",
       "5    float64\n",
       "6    float64\n",
       "7    float64\n",
       "8     object\n",
       "dtype: object"
      ]
     },
     "execution_count": 123,
     "metadata": {},
     "output_type": "execute_result"
    }
   ],
   "source": [
    "nf_df.dtypes"
   ]
  },
  {
   "cell_type": "code",
   "execution_count": 124,
   "metadata": {},
   "outputs": [],
   "source": [
    "#Remvoing NaN Values\n",
    "nf_df = nf_df.dropna(axis =0) \n",
    "f_df = f_df.dropna(axis =0) "
   ]
  },
  {
   "cell_type": "code",
   "execution_count": 125,
   "metadata": {},
   "outputs": [],
   "source": [
    "#removing the data from sensor 2\n",
    "nf_df = nf_df.drop([\"6\",\"7\",\"8\"], axis = 1) \n",
    "f_df = f_df.drop([\"6\",\"7\",\"8\"],axis =1) \n",
    "\n",
    "\n"
   ]
  },
  {
   "cell_type": "code",
   "execution_count": 126,
   "metadata": {},
   "outputs": [],
   "source": [
    "# Converting AD values\n",
    "#Acceleration [g]: [(2*Range)/(2^Resolution)]*AD\n",
    "#Angular velocity [°/s]: [(2*Range)/(2^Resolution)]*RD\n",
    "t_acc= ((2*16)/2**13)   \n",
    "r_acc= ((2*2000)/2**16)\n",
    "nf_df.iloc[:,0:4] *= t_acc\n",
    "nf_df.iloc[:,4:6] *= r_acc \n",
    "f_df.iloc[:,0:4] *= t_acc \n",
    "f_df.iloc[:,4:6] *= r_acc\n"
   ]
  },
  {
   "cell_type": "code",
   "execution_count": 127,
   "metadata": {},
   "outputs": [],
   "source": [
    "#Add the label Column\n",
    "nf_label= np.zeros((len(nf_df),1))\n",
    "nf_df = np.append(nf_df,nf_label,axis=1)\n",
    "nf_df = pd.DataFrame(nf_df[:])\n",
    "\n",
    "f_label= np.ones((len(f_df),1))\n",
    "f_df = np.append(f_df,f_label,axis=1)\n",
    "f_df = pd.DataFrame(f_df[:])"
   ]
  },
  {
   "cell_type": "code",
   "execution_count": 128,
   "metadata": {},
   "outputs": [],
   "source": [
    "#Normalization of the Data\n",
    "nf_minm = nf_df.min(axis =0)\n",
    "nf_maxm = nf_df.max(axis =0)\n",
    "nf_df = (nf_df-nf_minm)/(nf_maxm-nf_minm)\n",
    "\n",
    "f_minm = f_df.min(axis =0)\n",
    "f_maxm = f_df.max(axis =0)\n",
    "f_df = (f_df-f_minm)/(f_maxm-f_minm)\n"
   ]
  },
  {
   "cell_type": "code",
   "execution_count": 132,
   "metadata": {},
   "outputs": [
    {
     "data": {
      "image/png": "[encoded data removed]",
      "text/plain": [
       "<Figure size 432x288 with 1 Axes>"
      ]
     },
     "metadata": {
      "needs_background": "light"
     },
     "output_type": "display_data"
    }
   ],
   "source": [
    "import matplotlib.pyplot as plt\n",
    "import numpy as np\n",
    "import scipy.stats as stats\n",
    "import math\n",
    "\n",
    "mu = 0\n",
    "variance = 1\n",
    "sigma = math.sqrt(variance)\n",
    "plt.plot(nf_df, stats.norm.pdf(nf_df, mu, sigma))\n",
    "plt.show()"
   ]
  },
  {
   "cell_type": "code",
   "execution_count": 129,
   "metadata": {},
   "outputs": [],
   "source": [
    "#Splitting Data into Training and Testing\n",
    "nf_rows = np.size(nf_df,axis =0)\n",
    "f_rows = np.size(f_df,axis =0)\n",
    "\n",
    "nf_df_train = nf_df.iloc[0:int(0.8*nf_rows),:]\n",
    "f_df_train = f_df.iloc[0:int(0.8*f_rows),:]\n",
    "df_train = pd.concat([nf_df_train, nf_df_train], axis=0, sort=False)\n",
    "\n",
    "nf_df_test = nf_df.iloc[int(0.8*nf_rows):,:]\n",
    "f_df_test = f_df.iloc[int(0.8*f_rows):,:]\n",
    "df_test = pd.concat([nf_df_test, nf_df_test], axis=0, sort=False)"
   ]
  },
  {
   "cell_type": "code",
   "execution_count": 44,
   "metadata": {},
   "outputs": [],
   "source": [
    "#STEP2 Model \n",
    "from collections import Counter\n",
    "import math\n",
    "\n",
    "def knn(data,query,k,distance_fn,choice_fn):\n",
    "    neighbour_distances_and_indices = []\n",
    "    \n",
    "    #For each example in the data\n",
    "    for index,example in enumerate(data):\n",
    "        \n",
    "        #Calculate distance between query and current exmaple from data\n",
    "        distance = distance_fn(example[:-1],query)\n",
    "        \n",
    "        #Add distance and indices of example to ordered collection\n",
    "        neighbour_distances_and_indices.append((distance,index))\n",
    "        \n",
    "    #Sort the ordered collection of distances and indices from smallest to largest by distance\n",
    "    sorted_neighbour_distances_and_indices = sorted(neighbour_distances_and_indices)\n",
    "    \n",
    "    #Pick the first k entries from the sorted collection\n",
    "    k_nearest_distances_and_indices = sorted_neighbour_distances_and_indices[:k]\n",
    "    \n",
    "    #Get the Labels of selcted k entries\n",
    "    k_nearest_labels =[data[i][-1] for distance,i in k_nearest_distances_and_indices]\n",
    "    \n",
    "    #If regression (Choice_fn = mean),return the average of K labels\n",
    "    #If Clssification (Choice_fn =mode),return mode\n",
    "    return k_nearest_distances_and_indices,choice_fn(k_nearest_labels)\n",
    "\n",
    "def mean(labels):\n",
    "    return sum(labels)/len(labels)\n",
    "\n",
    "def mode(labels):\n",
    "    return Counter(labels).most_common(1)[0][0]\n",
    "\n",
    "def euclidean_distance(point1,point2):\n",
    "    sum_squared_distance = 0\n",
    "    \n",
    "    for i in range(len(point1)):\n",
    "        sum_squared_distance += math.pow(point1[i]-point2[i],2)\n",
    "        return math.sqrt(sum_squared_distance)\n",
    "    \n",
    "def main():\n",
    "    \n",
    "    #Read Data\n",
    "    \n",
    "    reg_k_nearest_neighbours,reg_prediction = knn(df_train, df_test,k=3,distance_fn = euclidean_distane, choice_fn = mean)\n",
    "    \n",
    "    if __name__ == '__main__':\n",
    "        main()\n",
    "    \n",
    "    \n",
    "\n",
    "\n"
   ]
  },
  {
   "cell_type": "code",
   "execution_count": null,
   "metadata": {},
   "outputs": [],
   "source": []
  }
 ],
 "metadata": {
  "kernelspec": {
   "display_name": "Python 3",
   "language": "python",
   "name": "python3"
  },
  "language_info": {
   "codemirror_mode": {
    "name": "ipython",
    "version": 3
   },
   "file_extension": ".py",
   "mimetype": "text/x-python",
   "name": "python",
   "nbconvert_exporter": "python",
   "pygments_lexer": "ipython3",
   "version": "3.7.4"
  }
 },
 "nbformat": 4,
 "nbformat_minor": 2
}
