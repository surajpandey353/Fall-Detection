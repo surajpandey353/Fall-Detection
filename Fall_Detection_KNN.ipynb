{
 "cells": [
  {
   "cell_type": "code",
   "execution_count": 29,
   "metadata": {},
   "outputs": [],
   "source": [
    "import pandas as pd\n",
    "import numpy as np\n",
    "import sklearn\n",
    "#import glob\n",
    "#import os\n",
    "import matplotlib.pyplot as plt\n",
    "from sklearn import datasets, neighbors\n",
    "from mlxtend.plotting import plot_decision_regions\n"
   ]
  },
  {
   "cell_type": "code",
   "execution_count": 30,
   "metadata": {},
   "outputs": [],
   "source": [
    "# path = r\"F:\\Docs\\Uni-Siegen\\WiSe2020-21\\Fall Detection\\SisFall_dataset\\SisFall_dataset\"\n",
    "# os.chdir(path)\n",
    "\n",
    "# nf_filenames = [i for i in glob.glob(r\"F:\\Docs\\Uni-Siegen\\WiSe2020-21\\Fall Detection\\SisFall_dataset\\SisFall_dataset\\S*\\D*\")]\n",
    "# f_filenames = [i for i in glob.glob(r\"F:\\Docs\\Uni-Siegen\\WiSe2020-21\\Fall Detection\\SisFall_dataset\\SisFall_dataset\\S*\\F*\")]\n",
    "\n",
    "\n",
    "# nf_combined = pd.concat([pd.read_csv(f,header=None) for f in nf_filenames ])\n",
    "# nf_combined.to_csv( \"nf_combined.csv\", index=False, encoding='utf-8-sig')\n",
    "# f_combined = pd.concat([pd.read_csv(f,header=None) for f in f_filenames ])\n",
    "# f_combined.to_csv( \"f_combined.csv\", index=False, encoding='utf-8-sig')"
   ]
  },
  {
   "cell_type": "code",
   "execution_count": 31,
   "metadata": {},
   "outputs": [],
   "source": [
    "#Step 1 Preprocessing of the Data\n",
    "\n",
    "path1 = r\"F:\\Docs\\Uni-Siegen\\WiSe2020-21\\Fall Detection\\SisFall_dataset\\SisFall_dataset\\nf_combined.csv\"\n",
    "path2 = r\"F:\\Docs\\Uni-Siegen\\WiSe2020-21\\Fall Detection\\SisFall_dataset\\SisFall_dataset\\f_combined.csv\"\n",
    "nf_df = pd.read_csv(path1, header =0)\n",
    "f_df = pd.read_csv(path2,header = 0)"
   ]
  },
  {
   "cell_type": "code",
   "execution_count": 38,
   "metadata": {},
   "outputs": [],
   "source": [
    "#Converting 1st Column to float # Correcting Error in writing of csv file\n",
    "nf_df[\"0\"] = pd.to_numeric(nf_df[\"0\"], errors='coerce')\n",
    "#nf_df['0'] = nf_df['0'].astype(float)"
   ]
  },
  {
   "cell_type": "code",
   "execution_count": 39,
   "metadata": {},
   "outputs": [
    {
     "data": {
      "text/plain": [
       "0    float32\n",
       "1    float64\n",
       "2    float64\n",
       "3    float64\n",
       "4    float64\n",
       "5    float64\n",
       "6    float64\n",
       "7    float64\n",
       "8     object\n",
       "dtype: object"
      ]
     },
     "execution_count": 39,
     "metadata": {},
     "output_type": "execute_result"
    }
   ],
   "source": [
    "nf_df.dtypes\n"
   ]
  },
  {
   "cell_type": "code",
   "execution_count": 40,
   "metadata": {},
   "outputs": [],
   "source": [
    "#Remvoing NaN Values\n",
    "nf_df = nf_df.dropna(axis =0) \n",
    "f_df = f_df.dropna(axis =0) "
   ]
  },
  {
   "cell_type": "code",
   "execution_count": 41,
   "metadata": {},
   "outputs": [],
   "source": [
    "#removing the data from sensor 2\n",
    "nf_df = nf_df.drop([\"6\",\"7\",\"8\"], axis = 1) \n",
    "f_df = f_df.drop([\"6\",\"7\",\"8\"],axis =1) \n",
    "\n",
    "\n"
   ]
  },
  {
   "cell_type": "code",
   "execution_count": 42,
   "metadata": {},
   "outputs": [],
   "source": [
    "# Converting AD values\n",
    "#Acceleration [g]: [(2*Range)/(2^Resolution)]*AD\n",
    "#Angular velocity [°/s]: [(2*Range)/(2^Resolution)]*RD\n",
    "t_acc= ((2*16)/2**13)   \n",
    "r_acc= ((2*2000)/2**16)\n",
    "nf_df.iloc[:,0:4] *= t_acc\n",
    "nf_df.iloc[:,4:6] *= r_acc \n",
    "f_df.iloc[:,0:4] *= t_acc \n",
    "f_df.iloc[:,4:6] *= r_acc\n"
   ]
  },
  {
   "cell_type": "code",
   "execution_count": 43,
   "metadata": {},
   "outputs": [],
   "source": [
    "# #Add the label Column\n",
    "# nf_label= np.zeros((len(nf_df),1))\n",
    "# nf_df = np.append(nf_df,nf_label,axis=1)\n",
    "# nf_df = pd.DataFrame(nf_df[:])\n",
    "\n",
    "# f_label= np.ones((len(f_df),1))\n",
    "# f_df = np.append(f_df,f_label,axis=1)\n",
    "# f_df = pd.DataFrame(f_df[:])"
   ]
  },
  {
   "cell_type": "code",
   "execution_count": 44,
   "metadata": {},
   "outputs": [],
   "source": [
    "#Normalization of the Data\n",
    "nf_minm = nf_df.min(axis =0)\n",
    "nf_maxm = nf_df.max(axis =0)\n",
    "nf_df = (nf_df-nf_minm)/(nf_maxm-nf_minm)\n",
    "\n",
    "f_minm = f_df.min(axis =0)\n",
    "f_maxm = f_df.max(axis =0)\n",
    "f_df = (f_df-f_minm)/(f_maxm-f_minm)\n"
   ]
  },
  {
   "cell_type": "code",
   "execution_count": 45,
   "metadata": {},
   "outputs": [],
   "source": [
    "#For Sckit Learning\n",
    "nf_target = pd.DataFrame(np.zeros((len(nf_df),1)))\n",
    "f_target = pd.DataFrame(np.ones((len(f_df),1)))"
   ]
  },
  {
   "cell_type": "code",
   "execution_count": 46,
   "metadata": {},
   "outputs": [],
   "source": [
    "#Splitting Data into Training and Testing\n",
    "nf_rows = np.size(nf_df,axis =0)\n",
    "f_rows = np.size(f_df,axis =0)\n",
    "\n",
    "nf_df_train = nf_df.iloc[0:int(0.8*nf_rows),:]\n",
    "f_df_train = f_df.iloc[0:int(0.8*f_rows),:]\n",
    "df_train = pd.concat([nf_df_train, f_df_train], axis=0, sort=False)\n",
    "nf_train_target = nf_target.iloc[0:int(0.8*nf_rows),:]\n",
    "f_train_target = f_target.iloc[0:int(0.8*f_rows),:]\n",
    "df_train_target = pd.concat([nf_train_target, f_train_target], axis=0, sort=False)\n",
    "\n",
    "nf_df_test = nf_df.iloc[int(0.8*nf_rows):,:]\n",
    "f_df_test = f_df.iloc[int(0.8*f_rows):,:]\n",
    "df_test = pd.concat([nf_df_test, f_df_test], axis=0, sort=False)\n",
    "nf_test_target = nf_target.iloc[int(0.8*nf_rows):,:]\n",
    "f_test_target = f_target.iloc[int(0.8*f_rows):,:]\n",
    "df_test_target = pd.concat([nf_test_target, f_test_target], axis=0, sort=False)"
   ]
  },
  {
   "cell_type": "code",
   "execution_count": 47,
   "metadata": {},
   "outputs": [
    {
     "data": {
      "text/plain": [
       "17002115"
      ]
     },
     "execution_count": 47,
     "metadata": {},
     "output_type": "execute_result"
    }
   ],
   "source": [
    "np.size(nf_df_train,axis =0) + np.size(f_df_train,axis =0)"
   ]
  },
  {
   "cell_type": "code",
   "execution_count": 48,
   "metadata": {},
   "outputs": [
    {
     "data": {
      "text/plain": [
       "17002115"
      ]
     },
     "execution_count": 48,
     "metadata": {},
     "output_type": "execute_result"
    }
   ],
   "source": [
    "np.size(df_train,axis =0)"
   ]
  },
  {
   "cell_type": "code",
   "execution_count": 11,
   "metadata": {},
   "outputs": [
    {
     "name": "stderr",
     "output_type": "stream",
     "text": [
      "D:\\Anaconda\\lib\\site-packages\\sklearn\\neighbors\\_classification.py:179: DataConversionWarning: A column-vector y was passed when a 1d array was expected. Please change the shape of y to (n_samples,), for example using ravel().\n",
      "  return self._fit(X, y)\n"
     ]
    },
    {
     "data": {
      "text/plain": [
       "KNeighborsClassifier(n_neighbors=3)"
      ]
     },
     "execution_count": 11,
     "metadata": {},
     "output_type": "execute_result"
    }
   ],
   "source": [
    "# classifier = KNeighborsClassifier(n_neighbors=3)\n",
    "# classifier.fit(df_train, df_train_target)\n"
   ]
  },
  {
   "cell_type": "code",
   "execution_count": 36,
   "metadata": {},
   "outputs": [],
   "source": [
    "# y_pred = classifier.predict(df_test)"
   ]
  },
  {
   "cell_type": "code",
   "execution_count": 49,
   "metadata": {},
   "outputs": [],
   "source": [
    "def knn_comparison(X,Y, k):\n",
    " clf = neighbors.KNeighborsClassifier(n_neighbors=k)\n",
    " clf.fit(X, Y)\n",
    "# Plotting decision region\n",
    " plot_decision_regions(X, Y, clf=clf, legend=2)\n",
    "# Adding axes annotations\n",
    " plt.xlabel(\"Sensor Data\")\n",
    " plt.ylabel(\"Fall or NonFall\")\n",
    " plt.title(\"Knn with K=\"+ str(k))\n",
    " plt.show()\n",
    "\n",
    "\n",
    " "
   ]
  },
  {
   "cell_type": "code",
   "execution_count": 53,
   "metadata": {},
   "outputs": [
    {
     "ename": "AttributeError",
     "evalue": "'numpy.ndarray' object has no attribute 'asarray'",
     "output_type": "error",
     "traceback": [
      "\u001b[1;31m---------------------------------------------------------------------------\u001b[0m",
      "\u001b[1;31mAttributeError\u001b[0m                            Traceback (most recent call last)",
      "\u001b[1;32m<ipython-input-53-7f5f8a849a94>\u001b[0m in \u001b[0;36m<module>\u001b[1;34m\u001b[0m\n\u001b[0;32m      1\u001b[0m \u001b[1;32mfor\u001b[0m \u001b[0mi\u001b[0m \u001b[1;32min\u001b[0m \u001b[1;33m[\u001b[0m\u001b[1;36m1\u001b[0m\u001b[1;33m,\u001b[0m\u001b[1;36m2\u001b[0m\u001b[1;33m,\u001b[0m\u001b[1;36m3\u001b[0m\u001b[1;33m,\u001b[0m\u001b[1;36m5\u001b[0m\u001b[1;33m]\u001b[0m\u001b[1;33m:\u001b[0m\u001b[1;33m\u001b[0m\u001b[1;33m\u001b[0m\u001b[0m\n\u001b[1;32m----> 2\u001b[1;33m     \u001b[0mknn_comparison\u001b[0m\u001b[1;33m(\u001b[0m\u001b[0mdf_train\u001b[0m\u001b[1;33m.\u001b[0m\u001b[0mto_numpy\u001b[0m\u001b[1;33m(\u001b[0m\u001b[1;33m)\u001b[0m\u001b[1;33m,\u001b[0m\u001b[0mdf_train_target\u001b[0m\u001b[1;33m.\u001b[0m\u001b[0mto_numpy\u001b[0m\u001b[1;33m(\u001b[0m\u001b[1;33m)\u001b[0m\u001b[1;33m.\u001b[0m\u001b[0masarray\u001b[0m\u001b[1;33m(\u001b[0m\u001b[1;33m)\u001b[0m\u001b[1;33m.\u001b[0m\u001b[0mastype\u001b[0m\u001b[1;33m(\u001b[0m\u001b[0mnp\u001b[0m\u001b[1;33m.\u001b[0m\u001b[0minteger\u001b[0m\u001b[1;33m)\u001b[0m\u001b[1;33m,\u001b[0m \u001b[0mi\u001b[0m\u001b[1;33m)\u001b[0m\u001b[1;33m\u001b[0m\u001b[1;33m\u001b[0m\u001b[0m\n\u001b[0m\u001b[0;32m      3\u001b[0m     \u001b[0mhold\u001b[0m\u001b[1;33m(\u001b[0m\u001b[1;32mTrue\u001b[0m\u001b[1;33m)\u001b[0m\u001b[1;33m\u001b[0m\u001b[1;33m\u001b[0m\u001b[0m\n\u001b[0;32m      4\u001b[0m     \u001b[0mknn_comparison\u001b[0m\u001b[1;33m(\u001b[0m\u001b[0mdf_test\u001b[0m\u001b[1;33m.\u001b[0m\u001b[0mto_numpy\u001b[0m\u001b[1;33m(\u001b[0m\u001b[1;33m)\u001b[0m\u001b[1;33m,\u001b[0m\u001b[0mdf_test_target\u001b[0m\u001b[1;33m.\u001b[0m\u001b[0mto_numpy\u001b[0m\u001b[1;33m(\u001b[0m\u001b[1;33m)\u001b[0m\u001b[1;33m.\u001b[0m\u001b[0masarray\u001b[0m\u001b[1;33m(\u001b[0m\u001b[1;33m)\u001b[0m\u001b[1;33m.\u001b[0m\u001b[0mastype\u001b[0m\u001b[1;33m(\u001b[0m\u001b[0mnp\u001b[0m\u001b[1;33m.\u001b[0m\u001b[0minteger\u001b[0m\u001b[1;33m)\u001b[0m\u001b[1;33m,\u001b[0m \u001b[0mi\u001b[0m\u001b[1;33m)\u001b[0m\u001b[1;33m\u001b[0m\u001b[1;33m\u001b[0m\u001b[0m\n",
      "\u001b[1;31mAttributeError\u001b[0m: 'numpy.ndarray' object has no attribute 'asarray'"
     ]
    }
   ],
   "source": [
    "\n",
    "for i in [1,2,3,5]:\n",
    "    knn_comparison(df_train.to_numpy(),df_train_target.to_numpy().astype(np.integer), i)\n",
    "    hold(True)\n",
    "    knn_comparison(df_test.to_numpy(),df_test_target.to_numpy().astype(np.integer), i)"
   ]
  },
  {
   "cell_type": "code",
   "execution_count": 37,
   "metadata": {},
   "outputs": [
    {
     "data": {
      "text/plain": [
       "0.9943843491793336"
      ]
     },
     "execution_count": 37,
     "metadata": {},
     "output_type": "execute_result"
    }
   ],
   "source": [
    "from sklearn.metrics import r2_score\n",
    "r2_score(df_test_target, y_pred)"
   ]
  },
  {
   "cell_type": "code",
   "execution_count": 137,
   "metadata": {},
   "outputs": [],
   "source": [
    "#STEP2 Model \n",
    "from collections import Counter\n",
    "import math\n",
    "\n",
    "def knn(data,query,k,distance_fn,choice_fn):\n",
    "    neighbour_distances_and_indices = []\n",
    "    \n",
    "    #For each example in the data\n",
    "    for index,example in enumerate(data):\n",
    "        \n",
    "        #Calculate distance between query and current exmaple from data\n",
    "        distance = distance_fn(example[:-1],query)\n",
    "        \n",
    "        #Add distance and indices of example to ordered collection\n",
    "        neighbour_distances_and_indices.append((distance,index))\n",
    "        \n",
    "    #Sort the ordered collection of distances and indices from smallest to largest by distance\n",
    "    sorted_neighbour_distances_and_indices = sorted(neighbour_distances_and_indices)\n",
    "    \n",
    "    #Pick the first k entries from the sorted collection\n",
    "    k_nearest_distances_and_indices = sorted_neighbour_distances_and_indices[:k]\n",
    "    \n",
    "    #Get the Labels of selcted k entries\n",
    "    k_nearest_labels =[data[i][-1] for distance,i in k_nearest_distances_and_indices]\n",
    "    \n",
    "    #If regression (Choice_fn = mean),return the average of K labels\n",
    "    #If Clssification (Choice_fn =mode),return mode\n",
    "    return k_nearest_distances_and_indices,choice_fn(k_nearest_labels)\n",
    "\n",
    "def mean(labels):\n",
    "    return sum(labels)/len(labels)\n",
    "\n",
    "def mode(labels):\n",
    "    return Counter(labels).most_common(1)[0][0]\n",
    "\n",
    "def euclidean_distance(point1,point2):\n",
    "    sum_squared_distance = 0\n",
    "    \n",
    "    for i in range(len(point1)):\n",
    "        sum_squared_distance += math.pow(point1[i]-point2[i],2)\n",
    "        return math.sqrt(sum_squared_distance)\n",
    "    \n",
    "def main():\n",
    "    \n",
    "    #Read Data\n",
    "    \n",
    "    reg_k_nearest_neighbours,reg_prediction = knn(df_train, df_test,k=3,distance_fn = euclidean_distane, choice_fn = mean)\n",
    "    \n",
    "    if __name__ == '__main__':\n",
    "        main()\n",
    "    \n",
    "    \n",
    "\n",
    "\n"
   ]
  },
  {
   "cell_type": "code",
   "execution_count": 133,
   "metadata": {},
   "outputs": [],
   "source": [
    "# def euclidean_distance (row_1, row_2):\n",
    "#     distance = 0.0\n",
    "    \n",
    "#     for i in range(len(row_1)-1):\n",
    "#         distance += (row_1[i] - row_2[i])**2\n",
    "#     return math.sqrt(distance)\n",
    "\n",
    "# def get_neighbors(train, test_row, num_neighbors):\n",
    "#     distances = list()\n",
    "    \n",
    "#     for train_row in train:\n",
    "#         dist = euclidean_distance(test_row, train_row)\n",
    "#         distances.append((train_row, dist))\n",
    "#         # Calculating distance between testing and training data\n",
    "        \n",
    "#     distances.sort(key = lambda tup: tup[1])\n",
    "#     neighbors = list()\n",
    "#     # The list of train_row and distance tuples is sorted where a custom key is used ensuring that the second item \n",
    "#     # in the tuple (tup[1]) is used in the sorting operation.\n",
    "    \n",
    "#     for i in range(num_neighbors):\n",
    "#         neighbors.append(distances[i][0])\n",
    "#     return neighbors\n",
    "\n",
    "# def predict_classification(train, test_row, num_neighbors):\n",
    "#     neighbors = get_neighbors(train, test_row, num_neighbors)\n",
    "#     output_values = [row[-1] for row in neighbors]\n",
    "#     # output values taken from neighbors\n",
    "#     prediction = max(set(output_values), key = output_values.count)\n",
    "#     # the max() function takes a set of unique class values and calls the count on the \n",
    "#     # list of class values for each class value in the set.\n",
    "#     return prediction\n",
    "\n",
    "# #Most similar neighbors are used to make predictions"
   ]
  },
  {
   "cell_type": "code",
   "execution_count": 134,
   "metadata": {},
   "outputs": [
    {
     "ename": "TypeError",
     "evalue": "'int' object is not subscriptable",
     "output_type": "error",
     "traceback": [
      "\u001b[1;31m---------------------------------------------------------------------------\u001b[0m",
      "\u001b[1;31mTypeError\u001b[0m                                 Traceback (most recent call last)",
      "\u001b[1;32m<ipython-input-134-9836c03cbfaa>\u001b[0m in \u001b[0;36m<module>\u001b[1;34m\u001b[0m\n\u001b[1;32m----> 1\u001b[1;33m \u001b[0mprediction\u001b[0m \u001b[1;33m=\u001b[0m \u001b[0mpredict_classification\u001b[0m\u001b[1;33m(\u001b[0m\u001b[0mdf_train\u001b[0m\u001b[1;33m,\u001b[0m \u001b[0mdf_train\u001b[0m\u001b[1;33m[\u001b[0m\u001b[1;36m0\u001b[0m\u001b[1;33m]\u001b[0m\u001b[1;33m,\u001b[0m \u001b[1;36m3\u001b[0m\u001b[1;33m)\u001b[0m\u001b[1;33m\u001b[0m\u001b[1;33m\u001b[0m\u001b[0m\n\u001b[0m\u001b[0;32m      2\u001b[0m \u001b[0mprint\u001b[0m\u001b[1;33m(\u001b[0m\u001b[1;34m'Expected %d, Got %d...'\u001b[0m \u001b[1;33m%\u001b[0m\u001b[1;33m(\u001b[0m\u001b[1;33m(\u001b[0m\u001b[0mdf_train\u001b[0m\u001b[1;33m[\u001b[0m\u001b[1;36m0\u001b[0m\u001b[1;33m]\u001b[0m\u001b[1;33m[\u001b[0m\u001b[1;33m-\u001b[0m\u001b[1;36m1\u001b[0m\u001b[1;33m]\u001b[0m\u001b[1;33m)\u001b[0m\u001b[1;33m,\u001b[0m \u001b[0mprediction\u001b[0m\u001b[1;33m)\u001b[0m\u001b[1;33m)\u001b[0m\u001b[1;33m\u001b[0m\u001b[1;33m\u001b[0m\u001b[0m\n",
      "\u001b[1;32m<ipython-input-133-869d3e12fbca>\u001b[0m in \u001b[0;36mpredict_classification\u001b[1;34m(train, test_row, num_neighbors)\u001b[0m\n\u001b[0;32m     24\u001b[0m \u001b[1;33m\u001b[0m\u001b[0m\n\u001b[0;32m     25\u001b[0m \u001b[1;32mdef\u001b[0m \u001b[0mpredict_classification\u001b[0m\u001b[1;33m(\u001b[0m\u001b[0mtrain\u001b[0m\u001b[1;33m,\u001b[0m \u001b[0mtest_row\u001b[0m\u001b[1;33m,\u001b[0m \u001b[0mnum_neighbors\u001b[0m\u001b[1;33m)\u001b[0m\u001b[1;33m:\u001b[0m\u001b[1;33m\u001b[0m\u001b[1;33m\u001b[0m\u001b[0m\n\u001b[1;32m---> 26\u001b[1;33m     \u001b[0mneighbors\u001b[0m \u001b[1;33m=\u001b[0m \u001b[0mget_neighbors\u001b[0m\u001b[1;33m(\u001b[0m\u001b[0mtrain\u001b[0m\u001b[1;33m,\u001b[0m \u001b[0mtest_row\u001b[0m\u001b[1;33m,\u001b[0m \u001b[0mnum_neighbors\u001b[0m\u001b[1;33m)\u001b[0m\u001b[1;33m\u001b[0m\u001b[1;33m\u001b[0m\u001b[0m\n\u001b[0m\u001b[0;32m     27\u001b[0m     \u001b[0moutput_values\u001b[0m \u001b[1;33m=\u001b[0m \u001b[1;33m[\u001b[0m\u001b[0mrow\u001b[0m\u001b[1;33m[\u001b[0m\u001b[1;33m-\u001b[0m\u001b[1;36m1\u001b[0m\u001b[1;33m]\u001b[0m \u001b[1;32mfor\u001b[0m \u001b[0mrow\u001b[0m \u001b[1;32min\u001b[0m \u001b[0mneighbors\u001b[0m\u001b[1;33m]\u001b[0m\u001b[1;33m\u001b[0m\u001b[1;33m\u001b[0m\u001b[0m\n\u001b[0;32m     28\u001b[0m     \u001b[1;31m# output values taken from neighbors\u001b[0m\u001b[1;33m\u001b[0m\u001b[1;33m\u001b[0m\u001b[1;33m\u001b[0m\u001b[0m\n",
      "\u001b[1;32m<ipython-input-133-869d3e12fbca>\u001b[0m in \u001b[0;36mget_neighbors\u001b[1;34m(train, test_row, num_neighbors)\u001b[0m\n\u001b[0;32m     10\u001b[0m \u001b[1;33m\u001b[0m\u001b[0m\n\u001b[0;32m     11\u001b[0m     \u001b[1;32mfor\u001b[0m \u001b[0mtrain_row\u001b[0m \u001b[1;32min\u001b[0m \u001b[0mtrain\u001b[0m\u001b[1;33m:\u001b[0m\u001b[1;33m\u001b[0m\u001b[1;33m\u001b[0m\u001b[0m\n\u001b[1;32m---> 12\u001b[1;33m         \u001b[0mdist\u001b[0m \u001b[1;33m=\u001b[0m \u001b[0meuclidean_distance\u001b[0m\u001b[1;33m(\u001b[0m\u001b[0mtest_row\u001b[0m\u001b[1;33m,\u001b[0m \u001b[0mtrain_row\u001b[0m\u001b[1;33m)\u001b[0m\u001b[1;33m\u001b[0m\u001b[1;33m\u001b[0m\u001b[0m\n\u001b[0m\u001b[0;32m     13\u001b[0m         \u001b[0mdistances\u001b[0m\u001b[1;33m.\u001b[0m\u001b[0mappend\u001b[0m\u001b[1;33m(\u001b[0m\u001b[1;33m(\u001b[0m\u001b[0mtrain_row\u001b[0m\u001b[1;33m,\u001b[0m \u001b[0mdist\u001b[0m\u001b[1;33m)\u001b[0m\u001b[1;33m)\u001b[0m\u001b[1;33m\u001b[0m\u001b[1;33m\u001b[0m\u001b[0m\n\u001b[0;32m     14\u001b[0m         \u001b[1;31m# Calculating distance between testing and training data\u001b[0m\u001b[1;33m\u001b[0m\u001b[1;33m\u001b[0m\u001b[1;33m\u001b[0m\u001b[0m\n",
      "\u001b[1;32m<ipython-input-133-869d3e12fbca>\u001b[0m in \u001b[0;36meuclidean_distance\u001b[1;34m(row_1, row_2)\u001b[0m\n\u001b[0;32m      3\u001b[0m \u001b[1;33m\u001b[0m\u001b[0m\n\u001b[0;32m      4\u001b[0m     \u001b[1;32mfor\u001b[0m \u001b[0mi\u001b[0m \u001b[1;32min\u001b[0m \u001b[0mrange\u001b[0m\u001b[1;33m(\u001b[0m\u001b[0mlen\u001b[0m\u001b[1;33m(\u001b[0m\u001b[0mrow_1\u001b[0m\u001b[1;33m)\u001b[0m\u001b[1;33m-\u001b[0m\u001b[1;36m1\u001b[0m\u001b[1;33m)\u001b[0m\u001b[1;33m:\u001b[0m\u001b[1;33m\u001b[0m\u001b[1;33m\u001b[0m\u001b[0m\n\u001b[1;32m----> 5\u001b[1;33m         \u001b[0mdistance\u001b[0m \u001b[1;33m+=\u001b[0m \u001b[1;33m(\u001b[0m\u001b[0mrow_1\u001b[0m\u001b[1;33m[\u001b[0m\u001b[0mi\u001b[0m\u001b[1;33m]\u001b[0m \u001b[1;33m-\u001b[0m \u001b[0mrow_2\u001b[0m\u001b[1;33m[\u001b[0m\u001b[0mi\u001b[0m\u001b[1;33m]\u001b[0m\u001b[1;33m)\u001b[0m\u001b[1;33m**\u001b[0m\u001b[1;36m2\u001b[0m\u001b[1;33m\u001b[0m\u001b[1;33m\u001b[0m\u001b[0m\n\u001b[0m\u001b[0;32m      6\u001b[0m     \u001b[1;32mreturn\u001b[0m \u001b[0mmath\u001b[0m\u001b[1;33m.\u001b[0m\u001b[0msqrt\u001b[0m\u001b[1;33m(\u001b[0m\u001b[0mdistance\u001b[0m\u001b[1;33m)\u001b[0m\u001b[1;33m\u001b[0m\u001b[1;33m\u001b[0m\u001b[0m\n\u001b[0;32m      7\u001b[0m \u001b[1;33m\u001b[0m\u001b[0m\n",
      "\u001b[1;31mTypeError\u001b[0m: 'int' object is not subscriptable"
     ]
    }
   ],
   "source": [
    "prediction = predict_classification(df_train, df_train[0], 3)\n",
    "print('Expected %d, Got %d...' %((df_train[0][-1]), prediction))"
   ]
  },
  {
   "cell_type": "code",
   "execution_count": null,
   "metadata": {},
   "outputs": [],
   "source": []
  }
 ],
 "metadata": {
  "kernelspec": {
   "display_name": "Python 3",
   "language": "python",
   "name": "python3"
  },
  "language_info": {
   "codemirror_mode": {
    "name": "ipython",
    "version": 3
   },
   "file_extension": ".py",
   "mimetype": "text/x-python",
   "name": "python",
   "nbconvert_exporter": "python",
   "pygments_lexer": "ipython3",
   "version": "3.7.4"
  }
 },
 "nbformat": 4,
 "nbformat_minor": 2
}
